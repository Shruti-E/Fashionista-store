{
 "cells": [
  {
   "cell_type": "code",
   "execution_count": 1,
   "metadata": {},
   "outputs": [
    {
     "name": "stdout",
     "output_type": "stream",
     "text": [
      "Welcome to Fashionista Store!!!!\n",
      "=================================\n",
      "\n",
      "1. Add Garments\n",
      "2. Set Order\n",
      "3. Show Details\n",
      "4. Exit\n"
     ]
    },
    {
     "name": "stdin",
     "output_type": "stream",
     "text": [
      "Enter your choice:  1\n",
      "Enter the ID of garment:  101\n",
      "Enter the type of garment(trousers, suits, traditional wear, accessories, sports gear):  trousers\n",
      "Enter the stock availability:  60\n",
      "Enter the price of garment:  200\n"
     ]
    },
    {
     "name": "stdout",
     "output_type": "stream",
     "text": [
      "\n",
      "1. Add Garments\n",
      "2. Set Order\n",
      "3. Show Details\n",
      "4. Exit\n"
     ]
    },
    {
     "name": "stdin",
     "output_type": "stream",
     "text": [
      "Enter your choice:  1\n",
      "Enter the ID of garment:  102\n",
      "Enter the type of garment(trousers, suits, traditional wear, accessories, sports gear):  suits\n",
      "Enter the stock availability:  100\n",
      "Enter the price of garment:  250\n"
     ]
    },
    {
     "name": "stdout",
     "output_type": "stream",
     "text": [
      "\n",
      "1. Add Garments\n",
      "2. Set Order\n",
      "3. Show Details\n",
      "4. Exit\n"
     ]
    },
    {
     "name": "stdin",
     "output_type": "stream",
     "text": [
      "Enter your choice:  3\n"
     ]
    },
    {
     "name": "stdout",
     "output_type": "stream",
     "text": [
      "\n",
      "Garment ID: 101\n",
      "Garment Type: trousers\n",
      "Garment Stock: 60\n",
      "Garment Price: 200\n",
      "\n",
      "Garment ID: 102\n",
      "Garment Type: suits\n",
      "Garment Stock: 100\n",
      "Garment Price: 250\n",
      "\n",
      "1. Add Garments\n",
      "2. Set Order\n",
      "3. Show Details\n",
      "4. Exit\n"
     ]
    },
    {
     "name": "stdin",
     "output_type": "stream",
     "text": [
      "Enter your choice:  2\n",
      "Enter garment ID:  101\n",
      "Enter the quantity:  4\n"
     ]
    },
    {
     "name": "stdout",
     "output_type": "stream",
     "text": [
      "Order Placed!!!\n",
      "Total price to be paid:  800\n",
      "\n",
      "1. Add Garments\n",
      "2. Set Order\n",
      "3. Show Details\n",
      "4. Exit\n"
     ]
    },
    {
     "name": "stdin",
     "output_type": "stream",
     "text": [
      "Enter your choice:  2\n",
      "Enter garment ID:  102\n",
      "Enter the quantity:  4\n"
     ]
    },
    {
     "name": "stdout",
     "output_type": "stream",
     "text": [
      "Order Placed!!!\n",
      "Total price to be paid:  1000\n",
      "\n",
      "1. Add Garments\n",
      "2. Set Order\n",
      "3. Show Details\n",
      "4. Exit\n"
     ]
    },
    {
     "name": "stdin",
     "output_type": "stream",
     "text": [
      "Enter your choice:  3\n"
     ]
    },
    {
     "name": "stdout",
     "output_type": "stream",
     "text": [
      "\n",
      "Garment ID: 101\n",
      "Garment Type: trousers\n",
      "Garment Stock: 56\n",
      "Garment Price: 200\n",
      "\n",
      "Garment ID: 102\n",
      "Garment Type: suits\n",
      "Garment Stock: 96\n",
      "Garment Price: 250\n",
      "\n",
      "1. Add Garments\n",
      "2. Set Order\n",
      "3. Show Details\n",
      "4. Exit\n"
     ]
    },
    {
     "name": "stdin",
     "output_type": "stream",
     "text": [
      "Enter your choice:  4\n"
     ]
    }
   ],
   "source": [
    "class Garments:\n",
    "    lst=[\"trousers\",\"suits\",\"traditional wear\",\"accessories\",\"sports gear\"]\n",
    "    def __init__(self):\n",
    "        self.id=0\n",
    "        self.type=\"\"\n",
    "        self.stock=0\n",
    "        self.price=0\n",
    "        self.sales=0\n",
    "        self.orderQty=0\n",
    "        \n",
    "    def addGarment(self):\n",
    "        self.id=int(input(\"Enter the ID of garment: \"))\n",
    "        while True:\n",
    "            t=input(\"Enter the type of garment(trousers, suits, traditional wear, accessories, sports gear): \")\n",
    "            if t in Garments.lst:\n",
    "                self.type=t\n",
    "                break\n",
    "            else:\n",
    "                print(\"Enter Valid Type!!!\")\n",
    "        self.stock=int(input(\"Enter the stock availability: \"))\n",
    "        self.price=int(input(\"Enter the price of garment: \"))\n",
    "        \n",
    "    def showDetails(self):\n",
    "        for i in range(b):\n",
    "            print(f'\\nGarment ID: {arr[i].id}\\nGarment Type: {arr[i].type}\\nGarment Stock: {arr[i].stock}\\nGarment Price: {arr[i].price}')\n",
    "        \n",
    "    def setOrder(self,arr):\n",
    "        a=int(input(\"Enter garment ID: \"))\n",
    "        for i in range(b):\n",
    "            if (a==arr[i].id):\n",
    "                arr[i].orderQty=int(input(\"Enter the quantity: \"))\n",
    "                arr[i].sales = arr[i].orderQty * arr[i].price\n",
    "                print(\"Order Placed!!!\")\n",
    "                print(\"Total price to be paid: \",arr[i].sales)\n",
    "                arr[i].stock = arr[i].stock - arr[i].orderQty\n",
    "                break    \n",
    "\n",
    "print(\"Welcome to Fashionista Store!!!!\")\n",
    "print(\"=================================\")\n",
    "arr=[]\n",
    "b=0\n",
    "while True:\n",
    "    print(\"\\n1. Add Garments\\n2. Set Order\\n3. Show Details\\n4. Exit\")\n",
    "    n=int(input(\"Enter your choice: \"))\n",
    "    if (n==1):\n",
    "        a1=Garments()\n",
    "        arr.append(a1)\n",
    "        a1.addGarment()\n",
    "        b=b+1\n",
    "    elif (n==2):\n",
    "        a1.setOrder(arr)\n",
    "        \n",
    "    elif (n==3):\n",
    "        a1.showDetails()\n",
    "    elif (n==4):\n",
    "        break\n",
    "    else:\n",
    "        print(\"INVALID INPUT!!!!\")\n",
    "        "
   ]
  },
  {
   "cell_type": "code",
   "execution_count": null,
   "metadata": {},
   "outputs": [],
   "source": []
  }
 ],
 "metadata": {
  "kernelspec": {
   "display_name": "Python 3",
   "language": "python",
   "name": "python3"
  },
  "language_info": {
   "codemirror_mode": {
    "name": "ipython",
    "version": 3
   },
   "file_extension": ".py",
   "mimetype": "text/x-python",
   "name": "python",
   "nbconvert_exporter": "python",
   "pygments_lexer": "ipython3",
   "version": "3.6.7"
  }
 },
 "nbformat": 4,
 "nbformat_minor": 4
}
